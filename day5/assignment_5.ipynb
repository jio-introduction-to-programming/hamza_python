{
 "cells": [
  {
   "cell_type": "markdown",
   "metadata": {},
   "source": [
    "1.Write a function which takes a list\n",
    "as input and return its sum\n",
    "\n",
    "2.Write a function which takes a list\n",
    "as an input and return the max\n",
    "element in the list\n",
    "\n",
    "3.Write a function which takes a list as\n",
    "input and returns the reverse of the\n",
    "list in the output\n",
    "No Built in Functions\n",
    "\n",
    "4. Write a function which takes a list as\n",
    "input and returns the list in sorted\n",
    "format. ( Note: You're not allowed to\n",
    "use in-built functions )\n",
    "\n",
    "\n",
    "5. Write a function which takes a list as\n",
    "an input and returns the following\n",
    "statistics:\n",
    "\n",
    "    1.Mean / Average\n",
    "    2.Mode\n",
    "\n",
    "6.\n",
    "    Step-1 Read a sequence of numbers\n",
    "    as an input from user.\n",
    "    Step-2 Read another integer k from\n",
    "    the user\n",
    "    Step-3 Ask user to input two number\n",
    "    start and end, k times\n",
    "    Step-4 Return the sum of the array\n",
    "    from start -> end as a result in the ksized list"
   ]
  },
  {
   "cell_type": "markdown",
   "metadata": {},
   "source": [
    "### 1 function which takes a list as input and return its sum"
   ]
  },
  {
   "cell_type": "code",
   "execution_count": 2,
   "metadata": {},
   "outputs": [],
   "source": [
    "def li_check(li):\n",
    "    flag = True\n",
    "    for i in li:\n",
    "        if i.isdigit() != True:\n",
    "            flag = False\n",
    "    return flag\n",
    "        \n",
    "def li_int_convert(li):\n",
    "    li = list(map(int,li))\n",
    "    return li\n",
    "\n",
    "def li_sum(li):\n",
    "    li_int = list(map(int,li))\n",
    "    return sum(li) #using in-built functions.\n",
    "\n",
    "def li_sum(li):\n",
    "    sum = 0\n",
    "    li_int = list(map(int,li))\n",
    "    for i in li_int:\n",
    "        sum += i\n",
    "    return(sum)        "
   ]
  },
  {
   "cell_type": "code",
   "execution_count": 3,
   "metadata": {},
   "outputs": [],
   "source": [
    "def li_input():\n",
    "    li = input(\"\\nenter integers seperated by a space to put into the list:\\n\").split(\" \")\n",
    "    return li\n",
    "\n"
   ]
  },
  {
   "cell_type": "code",
   "execution_count": 31,
   "metadata": {},
   "outputs": [
    {
     "name": "stdout",
     "output_type": "stream",
     "text": [
      "21\n"
     ]
    }
   ],
   "source": [
    "\n",
    "li = li_input()\n",
    "if li_check(li):\n",
    "    print(li_sum(li))\n",
    "    "
   ]
  },
  {
   "cell_type": "markdown",
   "metadata": {},
   "source": [
    "### 2. Write a function which takes a list as an input and return the max element in the list"
   ]
  },
  {
   "cell_type": "code",
   "execution_count": 32,
   "metadata": {},
   "outputs": [
    {
     "name": "stdout",
     "output_type": "stream",
     "text": [
      "8\n"
     ]
    }
   ],
   "source": [
    "\n",
    "li = li_input()\n",
    "if li_check(li):\n",
    "    print(max(li))"
   ]
  },
  {
   "cell_type": "markdown",
   "metadata": {},
   "source": [
    "### 3. Write a function which takes a list as input and returns the reverse of the list in the output\n",
    "(No Built in Functions)"
   ]
  },
  {
   "cell_type": "code",
   "execution_count": 39,
   "metadata": {},
   "outputs": [
    {
     "name": "stdout",
     "output_type": "stream",
     "text": [
      "['8', '7', '6', '5', '4', '3', '2', '1']\n"
     ]
    }
   ],
   "source": [
    "li1 = li_input()\n",
    "li_reverse = []\n",
    "for i in range(1,len(li)+1):\n",
    "    li_reverse.append(li[-i])\n",
    "print(li_reverse)   \n",
    "    "
   ]
  },
  {
   "cell_type": "markdown",
   "metadata": {},
   "source": [
    "### 4. Write a function which takes a list as input and returns the list in sorted format. \n",
    "( Note: You're not allowed to use in-built functions )"
   ]
  },
  {
   "cell_type": "code",
   "execution_count": 44,
   "metadata": {},
   "outputs": [
    {
     "name": "stdout",
     "output_type": "stream",
     "text": [
      "['1', '32', '2', '4', '3', '2', '5']\n",
      "[1, 2, 2, 3, 4, 5, 32]\n"
     ]
    }
   ],
   "source": [
    "li = li_input()\n",
    "print(li)\n",
    "\n",
    "#here we're using a basic sorting method known as bubble sort to sort the code.\n",
    "# python in reality uses timsort in the built-in sort method.\n",
    "def bubble_sort(li):\n",
    "    n = len(li)\n",
    "    # Traverse through all array elements\n",
    "    for i in range(n):\n",
    "        # Last i elements are already in place, so we don't need to check them again\n",
    "        for j in range(0, n-i-1):\n",
    "            # Swap if the element found is greater than the next element\n",
    "            if li[j] > li[j+1]:\n",
    "                li[j], li[j+1] = li[j+1], li[j]\n",
    "    return li\n",
    "\n",
    "\n",
    "print(bubble_sort(li_int_convert(li)))"
   ]
  },
  {
   "cell_type": "markdown",
   "metadata": {},
   "source": [
    "### 5. Write a function which takes a list as an input and returns the following statistics:\n",
    "\n",
    "    1.Mean / Average\n",
    "    2.Mode"
   ]
  },
  {
   "cell_type": "code",
   "execution_count": 51,
   "metadata": {},
   "outputs": [
    {
     "name": "stdout",
     "output_type": "stream",
     "text": [
      "[1, 1, 1, 1, 1, 2, 2, 3, 3, 3, 3, 4, 4, 4, 4, 5, 5, 5, 6, 6, 6, 6, 7, 7, 7, 7, 7, 7, 7, 4, 4, 4, 4, 4, 2, 2, 8, 8, 8, 4, 4, 4, 4, 4, 4]\n",
      "Mean: 4.377777777777778 Mode: 4\n"
     ]
    }
   ],
   "source": [
    "import statistics\n",
    "li = li_input()\n",
    "li_int = li_int_convert(li)\n",
    "\n",
    "def meanMode(li):\n",
    "    return statistics.mean(li_int), statistics.mode(li_int)\n",
    "\n",
    "print(li_int)\n",
    "print(f\"Mean: {meanMode(li_int)[0]} Mode: {meanMode(li)[1]}\")\n",
    "    \n",
    "    "
   ]
  },
  {
   "cell_type": "markdown",
   "metadata": {},
   "source": [
    "### 6. \n",
    "    Step-1 Read a sequence of numbers as an input from user.\n",
    "\n",
    "    Step-2 Read another integer k from the user\n",
    "    \n",
    "    Step-3 Ask user to input two number start and end, k times\n",
    "    \n",
    "    Step-4 Return the sum of the array from start -> end as a result in the ksized list"
   ]
  },
  {
   "cell_type": "code",
   "execution_count": 4,
   "metadata": {},
   "outputs": [
    {
     "data": {
      "text/plain": [
       "[14, 15, 12]"
      ]
     },
     "execution_count": 4,
     "metadata": {},
     "output_type": "execute_result"
    }
   ],
   "source": [
    "def sublist_sum(number_list):\n",
    "    k = int(input(\"Enter the number of substrings: \"))\n",
    "    sum_li = []\n",
    "    for i in range(k):\n",
    "        start = int(input(\"Enter start: \"))\n",
    "        end = int(input(\"Enter end: \"))\n",
    "        sublist = number_list[start : end]\n",
    "        sum_li.append(sum(sublist))\n",
    "    return(list(sum_li))\n",
    "\n",
    "li = li_input()\n",
    "li_int = li_int_convert(li)\n",
    "sublist_sum(li_int)"
   ]
  }
 ],
 "metadata": {
  "kernelspec": {
   "display_name": "Python 3",
   "language": "python",
   "name": "python3"
  },
  "language_info": {
   "codemirror_mode": {
    "name": "ipython",
    "version": 3
   },
   "file_extension": ".py",
   "mimetype": "text/x-python",
   "name": "python",
   "nbconvert_exporter": "python",
   "pygments_lexer": "ipython3",
   "version": "3.10.11"
  },
  "orig_nbformat": 4
 },
 "nbformat": 4,
 "nbformat_minor": 2
}
